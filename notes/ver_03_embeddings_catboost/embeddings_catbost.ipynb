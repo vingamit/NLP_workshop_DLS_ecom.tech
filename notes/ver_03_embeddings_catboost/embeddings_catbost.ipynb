{
 "cells": [
  {
   "cell_type": "code",
   "execution_count": 2,
   "metadata": {},
   "outputs": [],
   "source": [
    "import pathlib\n",
    "import pandas as pd\n",
    "import numpy as np\n",
    "import sys\n",
    "\n",
    "from sklearn.linear_model import LogisticRegression\n",
    "from sklearn.multioutput import MultiOutputClassifier\n",
    "from sklearn.pipeline import Pipeline\n",
    "from sklearn.compose import ColumnTransformer\n",
    "from sklearn.feature_extraction.text import TfidfVectorizer\n",
    "\n",
    "from sklearn.model_selection import (\n",
    "    train_test_split,\n",
    "    cross_validate,\n",
    "    cross_val_predict,\n",
    ")\n",
    "\n",
    "from sklearn.metrics import (\n",
    "    f1_score,\n",
    "    accuracy_score,\n",
    "    classification_report,\n",
    ")\n",
    "\n",
    "ROOT_DIR = pathlib.Path().absolute()\n",
    "DATA_DIR = ROOT_DIR / \"../../data\"\n",
    "RANDOM_SEED = 42"
   ]
  },
  {
   "cell_type": "markdown",
   "metadata": {},
   "source": [
    "## Data load and review"
   ]
  },
  {
   "cell_type": "code",
   "execution_count": 3,
   "metadata": {},
   "outputs": [],
   "source": [
    "df_trends = pd.read_csv(DATA_DIR / \"trends_description.csv\")\n",
    "df = pd.read_csv(DATA_DIR / \"train.csv\")"
   ]
  },
  {
   "cell_type": "code",
   "execution_count": 4,
   "metadata": {},
   "outputs": [
    {
     "data": {
      "text/html": [
       "<div>\n",
       "<style scoped>\n",
       "    .dataframe tbody tr th:only-of-type {\n",
       "        vertical-align: middle;\n",
       "    }\n",
       "\n",
       "    .dataframe tbody tr th {\n",
       "        vertical-align: top;\n",
       "    }\n",
       "\n",
       "    .dataframe thead th {\n",
       "        text-align: right;\n",
       "    }\n",
       "</style>\n",
       "<table border=\"1\" class=\"dataframe\">\n",
       "  <thead>\n",
       "    <tr style=\"text-align: right;\">\n",
       "      <th></th>\n",
       "      <th>Unnamed: 0</th>\n",
       "      <th>index</th>\n",
       "      <th>assessment</th>\n",
       "      <th>tags</th>\n",
       "      <th>text</th>\n",
       "      <th>trend_id_res0</th>\n",
       "      <th>trend_id_res1</th>\n",
       "      <th>trend_id_res2</th>\n",
       "      <th>trend_id_res3</th>\n",
       "      <th>trend_id_res4</th>\n",
       "      <th>...</th>\n",
       "      <th>trend_id_res40</th>\n",
       "      <th>trend_id_res41</th>\n",
       "      <th>trend_id_res42</th>\n",
       "      <th>trend_id_res43</th>\n",
       "      <th>trend_id_res44</th>\n",
       "      <th>trend_id_res45</th>\n",
       "      <th>trend_id_res46</th>\n",
       "      <th>trend_id_res47</th>\n",
       "      <th>trend_id_res48</th>\n",
       "      <th>trend_id_res49</th>\n",
       "    </tr>\n",
       "  </thead>\n",
       "  <tbody>\n",
       "    <tr>\n",
       "      <th>0</th>\n",
       "      <td>0</td>\n",
       "      <td>5652</td>\n",
       "      <td>6.0</td>\n",
       "      <td>{ASSORTMENT,PROMOTIONS,DELIVERY}</td>\n",
       "      <td>Маленький выбор товаров, хотелось бы ассортиме...</td>\n",
       "      <td>0</td>\n",
       "      <td>0</td>\n",
       "      <td>0</td>\n",
       "      <td>0</td>\n",
       "      <td>0</td>\n",
       "      <td>...</td>\n",
       "      <td>0</td>\n",
       "      <td>0</td>\n",
       "      <td>0</td>\n",
       "      <td>0</td>\n",
       "      <td>0</td>\n",
       "      <td>0</td>\n",
       "      <td>0</td>\n",
       "      <td>0</td>\n",
       "      <td>0</td>\n",
       "      <td>0</td>\n",
       "    </tr>\n",
       "    <tr>\n",
       "      <th>1</th>\n",
       "      <td>1</td>\n",
       "      <td>18092</td>\n",
       "      <td>4.0</td>\n",
       "      <td>{ASSORTMENT,PRICE,PRODUCTS_QUALITY,DELIVERY}</td>\n",
       "      <td>Быстро</td>\n",
       "      <td>0</td>\n",
       "      <td>0</td>\n",
       "      <td>0</td>\n",
       "      <td>0</td>\n",
       "      <td>0</td>\n",
       "      <td>...</td>\n",
       "      <td>0</td>\n",
       "      <td>0</td>\n",
       "      <td>0</td>\n",
       "      <td>0</td>\n",
       "      <td>0</td>\n",
       "      <td>0</td>\n",
       "      <td>0</td>\n",
       "      <td>0</td>\n",
       "      <td>0</td>\n",
       "      <td>0</td>\n",
       "    </tr>\n",
       "    <tr>\n",
       "      <th>2</th>\n",
       "      <td>2</td>\n",
       "      <td>13845</td>\n",
       "      <td>6.0</td>\n",
       "      <td>{DELIVERY,PROMOTIONS,PRICE,ASSORTMENT,SUPPORT}</td>\n",
       "      <td>Доставка постоянно задерживается</td>\n",
       "      <td>0</td>\n",
       "      <td>0</td>\n",
       "      <td>0</td>\n",
       "      <td>1</td>\n",
       "      <td>0</td>\n",
       "      <td>...</td>\n",
       "      <td>0</td>\n",
       "      <td>0</td>\n",
       "      <td>0</td>\n",
       "      <td>0</td>\n",
       "      <td>0</td>\n",
       "      <td>0</td>\n",
       "      <td>0</td>\n",
       "      <td>0</td>\n",
       "      <td>0</td>\n",
       "      <td>0</td>\n",
       "    </tr>\n",
       "    <tr>\n",
       "      <th>3</th>\n",
       "      <td>3</td>\n",
       "      <td>25060</td>\n",
       "      <td>6.0</td>\n",
       "      <td>{PRICE,PROMOTIONS,ASSORTMENT}</td>\n",
       "      <td>Наценка и ассортимент расстраивают</td>\n",
       "      <td>0</td>\n",
       "      <td>0</td>\n",
       "      <td>0</td>\n",
       "      <td>0</td>\n",
       "      <td>0</td>\n",
       "      <td>...</td>\n",
       "      <td>0</td>\n",
       "      <td>0</td>\n",
       "      <td>0</td>\n",
       "      <td>0</td>\n",
       "      <td>0</td>\n",
       "      <td>0</td>\n",
       "      <td>0</td>\n",
       "      <td>0</td>\n",
       "      <td>0</td>\n",
       "      <td>0</td>\n",
       "    </tr>\n",
       "    <tr>\n",
       "      <th>4</th>\n",
       "      <td>5</td>\n",
       "      <td>1428</td>\n",
       "      <td>6.0</td>\n",
       "      <td>{PRICE,PROMOTIONS}</td>\n",
       "      <td>Можно немного скинуть минимальную сумму заказа...</td>\n",
       "      <td>0</td>\n",
       "      <td>0</td>\n",
       "      <td>0</td>\n",
       "      <td>0</td>\n",
       "      <td>0</td>\n",
       "      <td>...</td>\n",
       "      <td>0</td>\n",
       "      <td>0</td>\n",
       "      <td>0</td>\n",
       "      <td>0</td>\n",
       "      <td>0</td>\n",
       "      <td>0</td>\n",
       "      <td>0</td>\n",
       "      <td>0</td>\n",
       "      <td>0</td>\n",
       "      <td>0</td>\n",
       "    </tr>\n",
       "  </tbody>\n",
       "</table>\n",
       "<p>5 rows × 55 columns</p>\n",
       "</div>"
      ],
      "text/plain": [
       "   Unnamed: 0  index  assessment  \\\n",
       "0           0   5652         6.0   \n",
       "1           1  18092         4.0   \n",
       "2           2  13845         6.0   \n",
       "3           3  25060         6.0   \n",
       "4           5   1428         6.0   \n",
       "\n",
       "                                             tags  \\\n",
       "0                {ASSORTMENT,PROMOTIONS,DELIVERY}   \n",
       "1    {ASSORTMENT,PRICE,PRODUCTS_QUALITY,DELIVERY}   \n",
       "2  {DELIVERY,PROMOTIONS,PRICE,ASSORTMENT,SUPPORT}   \n",
       "3                   {PRICE,PROMOTIONS,ASSORTMENT}   \n",
       "4                              {PRICE,PROMOTIONS}   \n",
       "\n",
       "                                                text  trend_id_res0  \\\n",
       "0  Маленький выбор товаров, хотелось бы ассортиме...              0   \n",
       "1                                             Быстро              0   \n",
       "2                   Доставка постоянно задерживается              0   \n",
       "3                 Наценка и ассортимент расстраивают              0   \n",
       "4  Можно немного скинуть минимальную сумму заказа...              0   \n",
       "\n",
       "   trend_id_res1  trend_id_res2  trend_id_res3  trend_id_res4  ...  \\\n",
       "0              0              0              0              0  ...   \n",
       "1              0              0              0              0  ...   \n",
       "2              0              0              1              0  ...   \n",
       "3              0              0              0              0  ...   \n",
       "4              0              0              0              0  ...   \n",
       "\n",
       "   trend_id_res40  trend_id_res41  trend_id_res42  trend_id_res43  \\\n",
       "0               0               0               0               0   \n",
       "1               0               0               0               0   \n",
       "2               0               0               0               0   \n",
       "3               0               0               0               0   \n",
       "4               0               0               0               0   \n",
       "\n",
       "   trend_id_res44  trend_id_res45  trend_id_res46  trend_id_res47  \\\n",
       "0               0               0               0               0   \n",
       "1               0               0               0               0   \n",
       "2               0               0               0               0   \n",
       "3               0               0               0               0   \n",
       "4               0               0               0               0   \n",
       "\n",
       "   trend_id_res48  trend_id_res49  \n",
       "0               0               0  \n",
       "1               0               0  \n",
       "2               0               0  \n",
       "3               0               0  \n",
       "4               0               0  \n",
       "\n",
       "[5 rows x 55 columns]"
      ]
     },
     "execution_count": 4,
     "metadata": {},
     "output_type": "execute_result"
    }
   ],
   "source": [
    "df.head()"
   ]
  },
  {
   "cell_type": "markdown",
   "metadata": {},
   "source": [
    "## Model training"
   ]
  },
  {
   "cell_type": "markdown",
   "metadata": {},
   "source": [
    "### Data preprocessing"
   ]
  },
  {
   "cell_type": "code",
   "execution_count": 5,
   "metadata": {},
   "outputs": [
    {
     "data": {
      "text/html": [
       "<div>\n",
       "<style scoped>\n",
       "    .dataframe tbody tr th:only-of-type {\n",
       "        vertical-align: middle;\n",
       "    }\n",
       "\n",
       "    .dataframe tbody tr th {\n",
       "        vertical-align: top;\n",
       "    }\n",
       "\n",
       "    .dataframe thead th {\n",
       "        text-align: right;\n",
       "    }\n",
       "</style>\n",
       "<table border=\"1\" class=\"dataframe\">\n",
       "  <thead>\n",
       "    <tr style=\"text-align: right;\">\n",
       "      <th></th>\n",
       "      <th>Unnamed: 0</th>\n",
       "      <th>index</th>\n",
       "      <th>assessment</th>\n",
       "      <th>tags</th>\n",
       "      <th>text</th>\n",
       "      <th>trend_id_res0</th>\n",
       "      <th>trend_id_res1</th>\n",
       "      <th>trend_id_res2</th>\n",
       "      <th>trend_id_res3</th>\n",
       "      <th>trend_id_res4</th>\n",
       "      <th>...</th>\n",
       "      <th>trend_id_res40</th>\n",
       "      <th>trend_id_res41</th>\n",
       "      <th>trend_id_res42</th>\n",
       "      <th>trend_id_res43</th>\n",
       "      <th>trend_id_res44</th>\n",
       "      <th>trend_id_res45</th>\n",
       "      <th>trend_id_res46</th>\n",
       "      <th>trend_id_res47</th>\n",
       "      <th>trend_id_res48</th>\n",
       "      <th>trend_id_res49</th>\n",
       "    </tr>\n",
       "  </thead>\n",
       "  <tbody>\n",
       "    <tr>\n",
       "      <th>0</th>\n",
       "      <td>0</td>\n",
       "      <td>5652</td>\n",
       "      <td>6.0</td>\n",
       "      <td>{ASSORTMENT,PROMOTIONS,DELIVERY}</td>\n",
       "      <td>Маленький выбор товаров, хотелось бы ассортиме...</td>\n",
       "      <td>0</td>\n",
       "      <td>0</td>\n",
       "      <td>0</td>\n",
       "      <td>0</td>\n",
       "      <td>0</td>\n",
       "      <td>...</td>\n",
       "      <td>0</td>\n",
       "      <td>0</td>\n",
       "      <td>0</td>\n",
       "      <td>0</td>\n",
       "      <td>0</td>\n",
       "      <td>0</td>\n",
       "      <td>0</td>\n",
       "      <td>0</td>\n",
       "      <td>0</td>\n",
       "      <td>0</td>\n",
       "    </tr>\n",
       "    <tr>\n",
       "      <th>1</th>\n",
       "      <td>1</td>\n",
       "      <td>18092</td>\n",
       "      <td>4.0</td>\n",
       "      <td>{ASSORTMENT,PRICE,PRODUCTS_QUALITY,DELIVERY}</td>\n",
       "      <td>Быстро</td>\n",
       "      <td>0</td>\n",
       "      <td>0</td>\n",
       "      <td>0</td>\n",
       "      <td>0</td>\n",
       "      <td>0</td>\n",
       "      <td>...</td>\n",
       "      <td>0</td>\n",
       "      <td>0</td>\n",
       "      <td>0</td>\n",
       "      <td>0</td>\n",
       "      <td>0</td>\n",
       "      <td>0</td>\n",
       "      <td>0</td>\n",
       "      <td>0</td>\n",
       "      <td>0</td>\n",
       "      <td>0</td>\n",
       "    </tr>\n",
       "    <tr>\n",
       "      <th>2</th>\n",
       "      <td>2</td>\n",
       "      <td>13845</td>\n",
       "      <td>6.0</td>\n",
       "      <td>{DELIVERY,PROMOTIONS,PRICE,ASSORTMENT,SUPPORT}</td>\n",
       "      <td>Доставка постоянно задерживается</td>\n",
       "      <td>0</td>\n",
       "      <td>0</td>\n",
       "      <td>0</td>\n",
       "      <td>1</td>\n",
       "      <td>0</td>\n",
       "      <td>...</td>\n",
       "      <td>0</td>\n",
       "      <td>0</td>\n",
       "      <td>0</td>\n",
       "      <td>0</td>\n",
       "      <td>0</td>\n",
       "      <td>0</td>\n",
       "      <td>0</td>\n",
       "      <td>0</td>\n",
       "      <td>0</td>\n",
       "      <td>0</td>\n",
       "    </tr>\n",
       "    <tr>\n",
       "      <th>3</th>\n",
       "      <td>3</td>\n",
       "      <td>25060</td>\n",
       "      <td>6.0</td>\n",
       "      <td>{PRICE,PROMOTIONS,ASSORTMENT}</td>\n",
       "      <td>Наценка и ассортимент расстраивают</td>\n",
       "      <td>0</td>\n",
       "      <td>0</td>\n",
       "      <td>0</td>\n",
       "      <td>0</td>\n",
       "      <td>0</td>\n",
       "      <td>...</td>\n",
       "      <td>0</td>\n",
       "      <td>0</td>\n",
       "      <td>0</td>\n",
       "      <td>0</td>\n",
       "      <td>0</td>\n",
       "      <td>0</td>\n",
       "      <td>0</td>\n",
       "      <td>0</td>\n",
       "      <td>0</td>\n",
       "      <td>0</td>\n",
       "    </tr>\n",
       "    <tr>\n",
       "      <th>4</th>\n",
       "      <td>5</td>\n",
       "      <td>1428</td>\n",
       "      <td>6.0</td>\n",
       "      <td>{PRICE,PROMOTIONS}</td>\n",
       "      <td>Можно немного скинуть минимальную сумму заказа...</td>\n",
       "      <td>0</td>\n",
       "      <td>0</td>\n",
       "      <td>0</td>\n",
       "      <td>0</td>\n",
       "      <td>0</td>\n",
       "      <td>...</td>\n",
       "      <td>0</td>\n",
       "      <td>0</td>\n",
       "      <td>0</td>\n",
       "      <td>0</td>\n",
       "      <td>0</td>\n",
       "      <td>0</td>\n",
       "      <td>0</td>\n",
       "      <td>0</td>\n",
       "      <td>0</td>\n",
       "      <td>0</td>\n",
       "    </tr>\n",
       "  </tbody>\n",
       "</table>\n",
       "<p>5 rows × 55 columns</p>\n",
       "</div>"
      ],
      "text/plain": [
       "   Unnamed: 0  index  assessment  \\\n",
       "0           0   5652         6.0   \n",
       "1           1  18092         4.0   \n",
       "2           2  13845         6.0   \n",
       "3           3  25060         6.0   \n",
       "4           5   1428         6.0   \n",
       "\n",
       "                                             tags  \\\n",
       "0                {ASSORTMENT,PROMOTIONS,DELIVERY}   \n",
       "1    {ASSORTMENT,PRICE,PRODUCTS_QUALITY,DELIVERY}   \n",
       "2  {DELIVERY,PROMOTIONS,PRICE,ASSORTMENT,SUPPORT}   \n",
       "3                   {PRICE,PROMOTIONS,ASSORTMENT}   \n",
       "4                              {PRICE,PROMOTIONS}   \n",
       "\n",
       "                                                text  trend_id_res0  \\\n",
       "0  Маленький выбор товаров, хотелось бы ассортиме...              0   \n",
       "1                                             Быстро              0   \n",
       "2                   Доставка постоянно задерживается              0   \n",
       "3                 Наценка и ассортимент расстраивают              0   \n",
       "4  Можно немного скинуть минимальную сумму заказа...              0   \n",
       "\n",
       "   trend_id_res1  trend_id_res2  trend_id_res3  trend_id_res4  ...  \\\n",
       "0              0              0              0              0  ...   \n",
       "1              0              0              0              0  ...   \n",
       "2              0              0              1              0  ...   \n",
       "3              0              0              0              0  ...   \n",
       "4              0              0              0              0  ...   \n",
       "\n",
       "   trend_id_res40  trend_id_res41  trend_id_res42  trend_id_res43  \\\n",
       "0               0               0               0               0   \n",
       "1               0               0               0               0   \n",
       "2               0               0               0               0   \n",
       "3               0               0               0               0   \n",
       "4               0               0               0               0   \n",
       "\n",
       "   trend_id_res44  trend_id_res45  trend_id_res46  trend_id_res47  \\\n",
       "0               0               0               0               0   \n",
       "1               0               0               0               0   \n",
       "2               0               0               0               0   \n",
       "3               0               0               0               0   \n",
       "4               0               0               0               0   \n",
       "\n",
       "   trend_id_res48  trend_id_res49  \n",
       "0               0               0  \n",
       "1               0               0  \n",
       "2               0               0  \n",
       "3               0               0  \n",
       "4               0               0  \n",
       "\n",
       "[5 rows x 55 columns]"
      ]
     },
     "execution_count": 5,
     "metadata": {},
     "output_type": "execute_result"
    }
   ],
   "source": [
    "df.head()"
   ]
  },
  {
   "cell_type": "code",
   "execution_count": 6,
   "metadata": {},
   "outputs": [],
   "source": [
    "df['emb'] = df['text'] + '\\ntags: ' + df['tags']"
   ]
  },
  {
   "cell_type": "code",
   "execution_count": 7,
   "metadata": {},
   "outputs": [],
   "source": [
    "from sentence_transformers import SentenceTransformer\n",
    "\n",
    "model = SentenceTransformer(\"deepvk/USER-base\")"
   ]
  },
  {
   "cell_type": "code",
   "execution_count": 9,
   "metadata": {},
   "outputs": [],
   "source": [
    "vectors = model.encode(df['emb'].to_list())"
   ]
  },
  {
   "cell_type": "code",
   "execution_count": 10,
   "metadata": {},
   "outputs": [
    {
     "name": "stdout",
     "output_type": "stream",
     "text": [
      "X_train.shape is (3698, 768)\n",
      "y_train.shape is (3698, 50)\n",
      "X_test.shape is (925, 768)\n",
      "y_test.shape is (925, 50)\n"
     ]
    }
   ],
   "source": [
    "X, y = vectors, df[[f\"trend_id_res{i}\" for i in range(50)]]\n",
    "X_train, X_test, y_train, y_test = train_test_split(X, y, test_size=0.2, random_state=RANDOM_SEED)\n",
    "print(f\"X_train.shape is {X_train.shape}\")\n",
    "print(f\"y_train.shape is {y_train.shape}\")\n",
    "print(f\"X_test.shape is {X_test.shape}\")\n",
    "print(f\"y_test.shape is {y_test.shape}\")"
   ]
  },
  {
   "cell_type": "markdown",
   "metadata": {},
   "source": [
    "### Checking quality on train data"
   ]
  },
  {
   "cell_type": "code",
   "execution_count": 13,
   "metadata": {},
   "outputs": [],
   "source": [
    "from catboost import CatBoostClassifier"
   ]
  },
  {
   "cell_type": "code",
   "execution_count": 37,
   "metadata": {},
   "outputs": [
    {
     "data": {
      "text/plain": [
       "(3698, 768)"
      ]
     },
     "execution_count": 37,
     "metadata": {},
     "output_type": "execute_result"
    }
   ],
   "source": [
    "X_train.shape"
   ]
  },
  {
   "cell_type": "code",
   "execution_count": 38,
   "metadata": {},
   "outputs": [],
   "source": [
    "from catboost import Pool\n",
    "\n",
    "train_pool = Pool(X_train, y_train)\n",
    "test_pool = Pool(X_test, y_test)"
   ]
  },
  {
   "cell_type": "code",
   "execution_count": 54,
   "metadata": {},
   "outputs": [
    {
     "data": {
      "application/vnd.jupyter.widget-view+json": {
       "model_id": "b3aa70bb971b4e469cc05035b72374a5",
       "version_major": 2,
       "version_minor": 0
      },
      "text/plain": [
       "MetricVisualizer(layout=Layout(align_self='stretch', height='500px'))"
      ]
     },
     "metadata": {},
     "output_type": "display_data"
    },
    {
     "name": "stdout",
     "output_type": "stream",
     "text": [
      "Learning rate set to 0.080001\n",
      "0:\tlearn: 0.0016225\ttest: 0.0000000\tbest: 0.0000000 (0)\ttotal: 2.74s\tremaining: 11m 22s\n",
      "50:\tlearn: 0.2174148\ttest: 0.1578378\tbest: 0.1578378 (50)\ttotal: 2m 4s\tremaining: 8m 7s\n",
      "100:\tlearn: 0.6406165\ttest: 0.2583784\tbest: 0.2583784 (99)\ttotal: 4m 6s\tremaining: 6m 3s\n",
      "150:\tlearn: 0.8585722\ttest: 0.3167568\tbest: 0.3167568 (145)\ttotal: 6m 5s\tremaining: 3m 59s\n",
      "200:\tlearn: 0.9515955\ttest: 0.3178378\tbest: 0.3189189 (195)\ttotal: 8m 4s\tremaining: 1m 58s\n",
      "249:\tlearn: 0.9851271\ttest: 0.3308108\tbest: 0.3308108 (249)\ttotal: 10m\tremaining: 0us\n",
      "\n",
      "bestTest = 0.3308108108\n",
      "bestIteration = 249\n",
      "\n"
     ]
    },
    {
     "data": {
      "text/plain": [
       "<catboost.core.CatBoostClassifier at 0x756385966890>"
      ]
     },
     "execution_count": 54,
     "metadata": {},
     "output_type": "execute_result"
    }
   ],
   "source": [
    "clf = CatBoostClassifier(\n",
    "    loss_function='MultiLogloss',\n",
    "    eval_metric='Accuracy',\n",
    "    class_names=[f\"trend_id_res{i}\" for i in range(50)],\n",
    "    iterations=200\n",
    ")\n",
    "clf.fit(train_pool, eval_set=test_pool, metric_period=1, plot=True, verbose=50)"
   ]
  },
  {
   "cell_type": "code",
   "execution_count": 56,
   "metadata": {},
   "outputs": [],
   "source": [
    "y_pred = clf.predict(X_train)"
   ]
  },
  {
   "cell_type": "code",
   "execution_count": 57,
   "metadata": {},
   "outputs": [
    {
     "data": {
      "text/plain": [
       "0.9851270957274202"
      ]
     },
     "execution_count": 57,
     "metadata": {},
     "output_type": "execute_result"
    }
   ],
   "source": [
    "accuracy_score(y_train, y_pred)"
   ]
  },
  {
   "cell_type": "markdown",
   "metadata": {},
   "source": [
    "### Training the final model"
   ]
  },
  {
   "cell_type": "code",
   "execution_count": 14,
   "metadata": {},
   "outputs": [],
   "source": [
    "from catboost import Pool\n",
    "\n",
    "pool = Pool(X, y)"
   ]
  },
  {
   "cell_type": "code",
   "execution_count": 15,
   "metadata": {},
   "outputs": [
    {
     "data": {
      "application/vnd.jupyter.widget-view+json": {
       "model_id": "8e24d558957040b0ade041939515918c",
       "version_major": 2,
       "version_minor": 0
      },
      "text/plain": [
       "MetricVisualizer(layout=Layout(align_self='stretch', height='500px'))"
      ]
     },
     "metadata": {},
     "output_type": "display_data"
    },
    {
     "name": "stdout",
     "output_type": "stream",
     "text": [
      "Learning rate set to 0.086659\n",
      "0:\tlearn: 0.0015142\ttotal: 2.67s\tremaining: 8m 50s\n",
      "10:\tlearn: 0.0129786\ttotal: 27.3s\tremaining: 7m 48s\n",
      "20:\tlearn: 0.0523470\ttotal: 51.7s\tremaining: 7m 20s\n",
      "30:\tlearn: 0.1111832\ttotal: 1m 16s\tremaining: 6m 56s\n",
      "40:\tlearn: 0.1784555\ttotal: 1m 41s\tremaining: 6m 32s\n",
      "50:\tlearn: 0.2437811\ttotal: 2m 5s\tremaining: 6m 7s\n",
      "60:\tlearn: 0.3184080\ttotal: 2m 30s\tremaining: 5m 42s\n",
      "70:\tlearn: 0.3984426\ttotal: 2m 55s\tremaining: 5m 17s\n",
      "80:\tlearn: 0.4847502\ttotal: 3m 19s\tremaining: 4m 53s\n",
      "90:\tlearn: 0.5608912\ttotal: 3m 44s\tremaining: 4m 29s\n",
      "100:\tlearn: 0.6303266\ttotal: 4m 9s\tremaining: 4m 4s\n",
      "110:\tlearn: 0.6882976\ttotal: 4m 33s\tremaining: 3m 39s\n",
      "120:\tlearn: 0.7348042\ttotal: 4m 58s\tremaining: 3m 14s\n",
      "130:\tlearn: 0.7709280\ttotal: 5m 22s\tremaining: 2m 49s\n",
      "140:\tlearn: 0.8051049\ttotal: 5m 46s\tremaining: 2m 24s\n",
      "150:\tlearn: 0.8362535\ttotal: 6m 10s\tremaining: 2m\n",
      "160:\tlearn: 0.8671858\ttotal: 6m 34s\tremaining: 1m 35s\n",
      "170:\tlearn: 0.8870863\ttotal: 6m 58s\tremaining: 1m 11s\n",
      "180:\tlearn: 0.9043911\ttotal: 7m 22s\tremaining: 46.5s\n",
      "190:\tlearn: 0.9186675\ttotal: 7m 46s\tremaining: 22s\n",
      "199:\tlearn: 0.9320787\ttotal: 8m 8s\tremaining: 0us\n"
     ]
    },
    {
     "data": {
      "text/plain": [
       "<catboost.core.CatBoostClassifier at 0x765cd0205870>"
      ]
     },
     "execution_count": 15,
     "metadata": {},
     "output_type": "execute_result"
    }
   ],
   "source": [
    "clf = CatBoostClassifier(\n",
    "    loss_function='MultiLogloss',\n",
    "    eval_metric='Accuracy',\n",
    "    class_names=[f\"trend_id_res{i}\" for i in range(50)],\n",
    "    iterations=200\n",
    ")\n",
    "clf.fit(pool, metric_period=1, plot=True, verbose=10)"
   ]
  },
  {
   "cell_type": "markdown",
   "metadata": {},
   "source": [
    "### Preddiction and downloading the solution"
   ]
  },
  {
   "cell_type": "code",
   "execution_count": 16,
   "metadata": {},
   "outputs": [],
   "source": [
    "test = pd.read_csv(DATA_DIR / \"test.csv\").fillna('')"
   ]
  },
  {
   "cell_type": "code",
   "execution_count": 17,
   "metadata": {},
   "outputs": [
    {
     "data": {
      "text/html": [
       "<div>\n",
       "<style scoped>\n",
       "    .dataframe tbody tr th:only-of-type {\n",
       "        vertical-align: middle;\n",
       "    }\n",
       "\n",
       "    .dataframe tbody tr th {\n",
       "        vertical-align: top;\n",
       "    }\n",
       "\n",
       "    .dataframe thead th {\n",
       "        text-align: right;\n",
       "    }\n",
       "</style>\n",
       "<table border=\"1\" class=\"dataframe\">\n",
       "  <thead>\n",
       "    <tr style=\"text-align: right;\">\n",
       "      <th></th>\n",
       "      <th>Unnamed: 0</th>\n",
       "      <th>index</th>\n",
       "      <th>assessment</th>\n",
       "      <th>tags</th>\n",
       "      <th>text</th>\n",
       "    </tr>\n",
       "  </thead>\n",
       "  <tbody>\n",
       "    <tr>\n",
       "      <th>0</th>\n",
       "      <td>1</td>\n",
       "      <td>3135</td>\n",
       "      <td>3.0</td>\n",
       "      <td>{DELIVERY}</td>\n",
       "      <td>Последнее время думаю плохо, сроки доставки да...</td>\n",
       "    </tr>\n",
       "    <tr>\n",
       "      <th>1</th>\n",
       "      <td>3</td>\n",
       "      <td>4655</td>\n",
       "      <td>2.0</td>\n",
       "      <td>{PRICE,DELIVERY,ASSORTMENT}</td>\n",
       "      <td>Цены намного выше магазинных но радуют акции</td>\n",
       "    </tr>\n",
       "    <tr>\n",
       "      <th>2</th>\n",
       "      <td>5</td>\n",
       "      <td>22118</td>\n",
       "      <td>2.0</td>\n",
       "      <td>{CATALOG_NAVIGATION,ASSORTMENT,DELIVERY}</td>\n",
       "      <td>Доставка за [NUM] минут, заказ даже не начали ...</td>\n",
       "    </tr>\n",
       "    <tr>\n",
       "      <th>3</th>\n",
       "      <td>7</td>\n",
       "      <td>23511</td>\n",
       "      <td>0.0</td>\n",
       "      <td>{DELIVERY}</td>\n",
       "      <td>Ужасно долгая доставка</td>\n",
       "    </tr>\n",
       "    <tr>\n",
       "      <th>4</th>\n",
       "      <td>8</td>\n",
       "      <td>45</td>\n",
       "      <td>6.0</td>\n",
       "      <td>{ASSORTMENT,PROMOTIONS}</td>\n",
       "      <td>Добрый вечер! Вы большие молодцы. Меня всё уст...</td>\n",
       "    </tr>\n",
       "  </tbody>\n",
       "</table>\n",
       "</div>"
      ],
      "text/plain": [
       "   Unnamed: 0  index  assessment                                      tags  \\\n",
       "0           1   3135         3.0                                {DELIVERY}   \n",
       "1           3   4655         2.0               {PRICE,DELIVERY,ASSORTMENT}   \n",
       "2           5  22118         2.0  {CATALOG_NAVIGATION,ASSORTMENT,DELIVERY}   \n",
       "3           7  23511         0.0                                {DELIVERY}   \n",
       "4           8     45         6.0                   {ASSORTMENT,PROMOTIONS}   \n",
       "\n",
       "                                                text  \n",
       "0  Последнее время думаю плохо, сроки доставки да...  \n",
       "1       Цены намного выше магазинных но радуют акции  \n",
       "2  Доставка за [NUM] минут, заказ даже не начали ...  \n",
       "3                             Ужасно долгая доставка  \n",
       "4  Добрый вечер! Вы большие молодцы. Меня всё уст...  "
      ]
     },
     "execution_count": 17,
     "metadata": {},
     "output_type": "execute_result"
    }
   ],
   "source": [
    "test.head()"
   ]
  },
  {
   "cell_type": "code",
   "execution_count": 18,
   "metadata": {},
   "outputs": [
    {
     "data": {
      "text/plain": [
       "0       Последнее время думаю плохо, сроки доставки да...\n",
       "1       Цены намного выше магазинных но радуют акции\\n...\n",
       "2       Доставка за [NUM] минут, заказ даже не начали ...\n",
       "3                Ужасно долгая доставка\\ntags: {DELIVERY}\n",
       "4       Добрый вечер! Вы большие молодцы. Меня всё уст...\n",
       "                              ...                        \n",
       "9010    Задержка с доставкой не даете промокод на скид...\n",
       "9011    Очень удобный формат сервиса и очень маленький...\n",
       "9012    Сумма заказа почти всегда высокая, что зачасту...\n",
       "9013    Часто, заказываю у вас молочную продукцию, при...\n",
       "9014    Изначально подкупало то, что заказ от [NUM] ру...\n",
       "Length: 9015, dtype: object"
      ]
     },
     "execution_count": 18,
     "metadata": {},
     "output_type": "execute_result"
    }
   ],
   "source": [
    "(test['text'] + '\\ntags: ' + test['tags'])"
   ]
  },
  {
   "cell_type": "code",
   "execution_count": 19,
   "metadata": {},
   "outputs": [
    {
     "name": "stdout",
     "output_type": "stream",
     "text": [
      "<class 'pandas.core.frame.DataFrame'>\n",
      "RangeIndex: 9015 entries, 0 to 9014\n",
      "Data columns (total 5 columns):\n",
      " #   Column      Non-Null Count  Dtype  \n",
      "---  ------      --------------  -----  \n",
      " 0   Unnamed: 0  9015 non-null   int64  \n",
      " 1   index       9015 non-null   int64  \n",
      " 2   assessment  9015 non-null   float64\n",
      " 3   tags        9015 non-null   object \n",
      " 4   text        9015 non-null   object \n",
      "dtypes: float64(1), int64(2), object(2)\n",
      "memory usage: 352.3+ KB\n"
     ]
    }
   ],
   "source": [
    "test.info()"
   ]
  },
  {
   "cell_type": "code",
   "execution_count": 20,
   "metadata": {},
   "outputs": [],
   "source": [
    "test_ve = model.encode((test['text'] + '\\ntags: ' + test['tags']).to_list())"
   ]
  },
  {
   "cell_type": "code",
   "execution_count": 21,
   "metadata": {},
   "outputs": [],
   "source": [
    "pred_test = clf.predict(test_ve)"
   ]
  },
  {
   "cell_type": "code",
   "execution_count": 22,
   "metadata": {},
   "outputs": [],
   "source": [
    "res = pd.DataFrame(\n",
    "    np.hstack([test[\"index\"].values.reshape(test.shape[0], 1), pred_test]),\n",
    "    columns=[\"index\"]+[f\"trend_id_res{i}\" for i in range(50)])"
   ]
  },
  {
   "cell_type": "code",
   "execution_count": 23,
   "metadata": {},
   "outputs": [
    {
     "data": {
      "text/html": [
       "<div>\n",
       "<style scoped>\n",
       "    .dataframe tbody tr th:only-of-type {\n",
       "        vertical-align: middle;\n",
       "    }\n",
       "\n",
       "    .dataframe tbody tr th {\n",
       "        vertical-align: top;\n",
       "    }\n",
       "\n",
       "    .dataframe thead th {\n",
       "        text-align: right;\n",
       "    }\n",
       "</style>\n",
       "<table border=\"1\" class=\"dataframe\">\n",
       "  <thead>\n",
       "    <tr style=\"text-align: right;\">\n",
       "      <th></th>\n",
       "      <th>index</th>\n",
       "      <th>trend_id_res0</th>\n",
       "      <th>trend_id_res1</th>\n",
       "      <th>trend_id_res2</th>\n",
       "      <th>trend_id_res3</th>\n",
       "      <th>trend_id_res4</th>\n",
       "      <th>trend_id_res5</th>\n",
       "      <th>trend_id_res6</th>\n",
       "      <th>trend_id_res7</th>\n",
       "      <th>trend_id_res8</th>\n",
       "      <th>...</th>\n",
       "      <th>trend_id_res40</th>\n",
       "      <th>trend_id_res41</th>\n",
       "      <th>trend_id_res42</th>\n",
       "      <th>trend_id_res43</th>\n",
       "      <th>trend_id_res44</th>\n",
       "      <th>trend_id_res45</th>\n",
       "      <th>trend_id_res46</th>\n",
       "      <th>trend_id_res47</th>\n",
       "      <th>trend_id_res48</th>\n",
       "      <th>trend_id_res49</th>\n",
       "    </tr>\n",
       "  </thead>\n",
       "  <tbody>\n",
       "    <tr>\n",
       "      <th>0</th>\n",
       "      <td>3135</td>\n",
       "      <td>0</td>\n",
       "      <td>0</td>\n",
       "      <td>0</td>\n",
       "      <td>0</td>\n",
       "      <td>0</td>\n",
       "      <td>0</td>\n",
       "      <td>0</td>\n",
       "      <td>0</td>\n",
       "      <td>0</td>\n",
       "      <td>...</td>\n",
       "      <td>0</td>\n",
       "      <td>0</td>\n",
       "      <td>0</td>\n",
       "      <td>0</td>\n",
       "      <td>0</td>\n",
       "      <td>0</td>\n",
       "      <td>0</td>\n",
       "      <td>0</td>\n",
       "      <td>0</td>\n",
       "      <td>0</td>\n",
       "    </tr>\n",
       "    <tr>\n",
       "      <th>1</th>\n",
       "      <td>4655</td>\n",
       "      <td>0</td>\n",
       "      <td>0</td>\n",
       "      <td>0</td>\n",
       "      <td>0</td>\n",
       "      <td>0</td>\n",
       "      <td>0</td>\n",
       "      <td>0</td>\n",
       "      <td>0</td>\n",
       "      <td>0</td>\n",
       "      <td>...</td>\n",
       "      <td>0</td>\n",
       "      <td>0</td>\n",
       "      <td>0</td>\n",
       "      <td>0</td>\n",
       "      <td>0</td>\n",
       "      <td>0</td>\n",
       "      <td>0</td>\n",
       "      <td>0</td>\n",
       "      <td>0</td>\n",
       "      <td>0</td>\n",
       "    </tr>\n",
       "    <tr>\n",
       "      <th>2</th>\n",
       "      <td>22118</td>\n",
       "      <td>0</td>\n",
       "      <td>0</td>\n",
       "      <td>0</td>\n",
       "      <td>0</td>\n",
       "      <td>0</td>\n",
       "      <td>0</td>\n",
       "      <td>0</td>\n",
       "      <td>0</td>\n",
       "      <td>0</td>\n",
       "      <td>...</td>\n",
       "      <td>0</td>\n",
       "      <td>0</td>\n",
       "      <td>0</td>\n",
       "      <td>0</td>\n",
       "      <td>0</td>\n",
       "      <td>0</td>\n",
       "      <td>0</td>\n",
       "      <td>0</td>\n",
       "      <td>0</td>\n",
       "      <td>0</td>\n",
       "    </tr>\n",
       "    <tr>\n",
       "      <th>3</th>\n",
       "      <td>23511</td>\n",
       "      <td>1</td>\n",
       "      <td>0</td>\n",
       "      <td>0</td>\n",
       "      <td>0</td>\n",
       "      <td>0</td>\n",
       "      <td>0</td>\n",
       "      <td>0</td>\n",
       "      <td>0</td>\n",
       "      <td>0</td>\n",
       "      <td>...</td>\n",
       "      <td>0</td>\n",
       "      <td>0</td>\n",
       "      <td>0</td>\n",
       "      <td>0</td>\n",
       "      <td>0</td>\n",
       "      <td>0</td>\n",
       "      <td>0</td>\n",
       "      <td>0</td>\n",
       "      <td>0</td>\n",
       "      <td>0</td>\n",
       "    </tr>\n",
       "    <tr>\n",
       "      <th>4</th>\n",
       "      <td>45</td>\n",
       "      <td>0</td>\n",
       "      <td>0</td>\n",
       "      <td>0</td>\n",
       "      <td>0</td>\n",
       "      <td>0</td>\n",
       "      <td>0</td>\n",
       "      <td>0</td>\n",
       "      <td>0</td>\n",
       "      <td>0</td>\n",
       "      <td>...</td>\n",
       "      <td>0</td>\n",
       "      <td>0</td>\n",
       "      <td>0</td>\n",
       "      <td>0</td>\n",
       "      <td>0</td>\n",
       "      <td>0</td>\n",
       "      <td>0</td>\n",
       "      <td>0</td>\n",
       "      <td>0</td>\n",
       "      <td>0</td>\n",
       "    </tr>\n",
       "  </tbody>\n",
       "</table>\n",
       "<p>5 rows × 51 columns</p>\n",
       "</div>"
      ],
      "text/plain": [
       "   index  trend_id_res0  trend_id_res1  trend_id_res2  trend_id_res3  \\\n",
       "0   3135              0              0              0              0   \n",
       "1   4655              0              0              0              0   \n",
       "2  22118              0              0              0              0   \n",
       "3  23511              1              0              0              0   \n",
       "4     45              0              0              0              0   \n",
       "\n",
       "   trend_id_res4  trend_id_res5  trend_id_res6  trend_id_res7  trend_id_res8  \\\n",
       "0              0              0              0              0              0   \n",
       "1              0              0              0              0              0   \n",
       "2              0              0              0              0              0   \n",
       "3              0              0              0              0              0   \n",
       "4              0              0              0              0              0   \n",
       "\n",
       "   ...  trend_id_res40  trend_id_res41  trend_id_res42  trend_id_res43  \\\n",
       "0  ...               0               0               0               0   \n",
       "1  ...               0               0               0               0   \n",
       "2  ...               0               0               0               0   \n",
       "3  ...               0               0               0               0   \n",
       "4  ...               0               0               0               0   \n",
       "\n",
       "   trend_id_res44  trend_id_res45  trend_id_res46  trend_id_res47  \\\n",
       "0               0               0               0               0   \n",
       "1               0               0               0               0   \n",
       "2               0               0               0               0   \n",
       "3               0               0               0               0   \n",
       "4               0               0               0               0   \n",
       "\n",
       "   trend_id_res48  trend_id_res49  \n",
       "0               0               0  \n",
       "1               0               0  \n",
       "2               0               0  \n",
       "3               0               0  \n",
       "4               0               0  \n",
       "\n",
       "[5 rows x 51 columns]"
      ]
     },
     "execution_count": 23,
     "metadata": {},
     "output_type": "execute_result"
    }
   ],
   "source": [
    "res.head()"
   ]
  },
  {
   "cell_type": "code",
   "execution_count": 24,
   "metadata": {},
   "outputs": [],
   "source": [
    "target = \"\"\n",
    "for i in range(50):\n",
    "    def add_str(val: int) -> str:\n",
    "        return \"\" if val == 0 else \" \" + str(i)\n",
    "    \n",
    "    target += res[f'trend_id_res{i}'].apply(add_str)"
   ]
  },
  {
   "cell_type": "code",
   "execution_count": 25,
   "metadata": {},
   "outputs": [],
   "source": [
    "target = target.apply(str.strip)"
   ]
  },
  {
   "cell_type": "code",
   "execution_count": 26,
   "metadata": {},
   "outputs": [],
   "source": [
    "res['target'] = target"
   ]
  },
  {
   "cell_type": "code",
   "execution_count": 27,
   "metadata": {},
   "outputs": [],
   "source": [
    "res[['index', 'target']].to_csv(\"submission2.csv\", index=False)"
   ]
  },
  {
   "cell_type": "code",
   "execution_count": null,
   "metadata": {},
   "outputs": [],
   "source": []
  }
 ],
 "metadata": {
  "kernelspec": {
   "display_name": "Python 3",
   "language": "python",
   "name": "python3"
  },
  "language_info": {
   "codemirror_mode": {
    "name": "ipython",
    "version": 3
   },
   "file_extension": ".py",
   "mimetype": "text/x-python",
   "name": "python",
   "nbconvert_exporter": "python",
   "pygments_lexer": "ipython3",
   "version": "3.10.13"
  }
 },
 "nbformat": 4,
 "nbformat_minor": 2
}
